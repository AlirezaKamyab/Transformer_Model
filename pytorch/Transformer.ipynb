{
 "cells": [
  {
   "cell_type": "code",
   "execution_count": 1,
   "id": "37e10285-b7e1-487d-9623-4ac8e46e64e6",
   "metadata": {},
   "outputs": [],
   "source": [
    "import torch\n",
    "import torch.nn as nn\n",
    "import torch.nn.functional as F\n",
    "from torchsummary import summary\n",
    "\n",
    "device = torch.device('cuda')"
   ]
  },
  {
   "cell_type": "code",
   "execution_count": 3,
   "id": "71d61a38-e17c-4df8-8d9f-28f96d976251",
   "metadata": {},
   "outputs": [],
   "source": [
    "from encoder import EncoderLayer\n",
    "from decoder import DecoderLayer"
   ]
  },
  {
   "cell_type": "code",
   "execution_count": 4,
   "id": "08b600c3-f93e-4453-ba09-b063420439b5",
   "metadata": {},
   "outputs": [],
   "source": [
    "class Transformer(torch.nn.Module):\n",
    "    def __init__(self, *, \n",
    "                 d_model, \n",
    "                 num_heads,\n",
    "                 N, \n",
    "                 dff,\n",
    "                 source_vocab_size,\n",
    "                 target_vocab_size, \n",
    "                 dropout=0.0, \n",
    "                 max_length=4000, \n",
    "                 source_padding_idx=0, \n",
    "                 target_padding_idx=0):\n",
    "        super(Transformer, self).__init__()\n",
    "\n",
    "        self.encoder_layer = EncoderLayer(d_model=d_model, \n",
    "                                          num_heads=num_heads, \n",
    "                                          N=N, \n",
    "                                          dff=dff,\n",
    "                                          vocab_size=source_vocab_size,\n",
    "                                          dropout=dropout, \n",
    "                                          max_length=max_length,\n",
    "                                          padding_idx=source_padding_idx)\n",
    "\n",
    "        self.decoder_layer = DecoderLayer(d_model=d_model, \n",
    "                                          num_heads=num_heads, \n",
    "                                          N=N,\n",
    "                                          dff=dff,\n",
    "                                          vocab_size=target_vocab_size, \n",
    "                                          dropout=dropout, \n",
    "                                          max_length=max_length,\n",
    "                                          padding_idx=target_padding_idx)\n",
    "\n",
    "        self.classifier = torch.nn.Linear(in_features=d_model, out_features=target_vocab_size)\n",
    "\n",
    "\n",
    "    def forward(self, source, target):\n",
    "        context = self.encoder_layer(source)\n",
    "        output = self.decoder_layer(target, context=context)\n",
    "        output = self.classifier(output)\n",
    "        return output"
   ]
  },
  {
   "cell_type": "code",
   "execution_count": 5,
   "id": "a096bfc7-3280-4ed9-bcbe-80b8c3a7c354",
   "metadata": {},
   "outputs": [],
   "source": [
    "D_MODEL = 512\n",
    "NUM_HEADS = 8\n",
    "N = 6\n",
    "DFF = 2048\n",
    "SOURCE_VOCAB_SIZE = 25000\n",
    "TARGET_VOCAB_SIZE = 25000\n",
    "DROPOUT = 0.1"
   ]
  },
  {
   "cell_type": "code",
   "execution_count": 6,
   "id": "5a185923-6b19-44a3-b3fe-b97c77645d68",
   "metadata": {},
   "outputs": [],
   "source": [
    "transformer = Transformer(d_model=D_MODEL, \n",
    "                          num_heads=NUM_HEADS,\n",
    "                          N=N, \n",
    "                          dff=DFF,\n",
    "                          source_vocab_size=SOURCE_VOCAB_SIZE, \n",
    "                          target_vocab_size=TARGET_VOCAB_SIZE, \n",
    "                          dropout=DROPOUT)"
   ]
  },
  {
   "cell_type": "code",
   "execution_count": 7,
   "id": "e6d784f0-f771-4368-a9e2-88ece4bdecf8",
   "metadata": {},
   "outputs": [],
   "source": [
    "source = torch.randint(low=0, high=25000, size=[64, 55])\n",
    "target = torch.randint(low=0, high=25000, size=[64, 25])\n",
    "\n",
    "source = source.to(device)\n",
    "target = target.to(device)\n",
    "transformer = transformer.to(device)"
   ]
  },
  {
   "cell_type": "code",
   "execution_count": 8,
   "id": "abe4f2a3-c80d-4098-9d10-866daed64f4c",
   "metadata": {},
   "outputs": [
    {
     "data": {
      "text/plain": [
       "tensor([[[ 0.7491, -0.2208, -0.0345,  ...,  0.6744,  0.0654,  0.1210],\n",
       "         [ 0.4923, -0.3730,  0.2807,  ...,  0.2042,  0.0303,  0.7153],\n",
       "         [ 0.3478, -0.2936,  0.1063,  ...,  0.2253, -0.1484,  0.4344],\n",
       "         ...,\n",
       "         [ 0.3111, -0.4804,  0.0950,  ...,  0.2714, -0.3520,  0.6069],\n",
       "         [ 0.2706, -0.3619,  0.1608,  ...,  0.2614, -0.2746,  0.4827],\n",
       "         [ 0.3672, -0.3029,  0.1835,  ...,  0.3230, -0.3805,  0.6386]],\n",
       "\n",
       "        [[ 0.3127, -0.4228, -0.0360,  ..., -0.3466, -0.4244,  0.3249],\n",
       "         [ 0.4145, -0.2523,  0.1451,  ..., -0.1856, -0.5702,  0.4063],\n",
       "         [ 0.4496, -0.0983,  0.0530,  ..., -0.0147, -0.4098,  0.2872],\n",
       "         ...,\n",
       "         [ 0.3273, -0.3032, -0.0302,  ..., -0.1227, -0.4185,  0.7001],\n",
       "         [ 0.3844, -0.3724, -0.0216,  ..., -0.1576, -0.2898,  0.7288],\n",
       "         [ 0.3467, -0.3530, -0.0762,  ..., -0.1844, -0.4220,  0.7115]],\n",
       "\n",
       "        [[ 0.3751, -0.3778,  0.3605,  ...,  0.6742, -0.0193,  0.7466],\n",
       "         [ 0.3180, -0.2848,  0.6148,  ...,  0.4489,  0.1345,  0.8202],\n",
       "         [ 0.3421, -0.2582,  0.5722,  ...,  0.4581, -0.0834,  0.9634],\n",
       "         ...,\n",
       "         [ 0.2931, -0.3340,  0.4842,  ...,  0.2594, -0.0153,  0.6149],\n",
       "         [ 0.2161, -0.1185,  0.5294,  ...,  0.2544, -0.0181,  0.7274],\n",
       "         [ 0.2288, -0.3065,  0.4612,  ...,  0.1339,  0.1119,  0.7475]],\n",
       "\n",
       "        ...,\n",
       "\n",
       "        [[ 0.6009,  0.0797,  0.2323,  ...,  0.3025, -0.1037,  0.4807],\n",
       "         [ 0.5094,  0.2820,  0.1189,  ...,  0.4872, -0.3841,  0.3350],\n",
       "         [ 0.4686, -0.0195,  0.0399,  ...,  0.2232, -0.3581,  0.4175],\n",
       "         ...,\n",
       "         [ 0.4520, -0.0549, -0.0404,  ...,  0.0079, -0.1813,  0.5422],\n",
       "         [ 0.3264, -0.0939, -0.0509,  ..., -0.0084, -0.1684,  0.5263],\n",
       "         [ 0.4917, -0.1560,  0.0420,  ...,  0.0807, -0.1652,  0.5355]],\n",
       "\n",
       "        [[ 0.3850, -0.4301,  0.4166,  ..., -0.2909,  0.1090,  1.0274],\n",
       "         [ 0.3115, -0.3108,  0.3566,  ..., -0.0224,  0.0111,  0.9779],\n",
       "         [ 0.3832, -0.3523,  0.3968,  ...,  0.0388,  0.0270,  0.9428],\n",
       "         ...,\n",
       "         [ 0.4094, -0.4788,  0.4447,  ..., -0.0840, -0.1707,  0.9476],\n",
       "         [ 0.4504, -0.4597,  0.3062,  ..., -0.0995, -0.0803,  0.9675],\n",
       "         [ 0.4407, -0.3745,  0.4204,  ..., -0.0929, -0.0763,  0.9707]],\n",
       "\n",
       "        [[ 0.1418,  0.1048,  0.2982,  ...,  0.5735, -0.4377,  1.0286],\n",
       "         [ 0.3317,  0.0154,  0.3481,  ...,  0.7269, -0.4778,  0.9238],\n",
       "         [ 0.3023, -0.0157,  0.2538,  ...,  0.4349, -0.4322,  1.1013],\n",
       "         ...,\n",
       "         [ 0.3063, -0.2864,  0.4768,  ...,  0.5229, -0.6890,  0.8367],\n",
       "         [ 0.3142, -0.2467,  0.4147,  ...,  0.3180, -0.5695,  0.8226],\n",
       "         [ 0.3500, -0.2399,  0.4759,  ...,  0.4656, -0.6694,  0.8208]]],\n",
       "       device='cuda:0', grad_fn=<ViewBackward0>)"
      ]
     },
     "execution_count": 8,
     "metadata": {},
     "output_type": "execute_result"
    }
   ],
   "source": [
    "transformer.train()\n",
    "transformer(source=source, target=target)"
   ]
  },
  {
   "cell_type": "code",
   "execution_count": null,
   "id": "146c18e3-d169-434d-af0f-5584c20fa36c",
   "metadata": {},
   "outputs": [],
   "source": []
  }
 ],
 "metadata": {
  "kernelspec": {
   "display_name": "Python 3 (ipykernel)",
   "language": "python",
   "name": "python3"
  },
  "language_info": {
   "codemirror_mode": {
    "name": "ipython",
    "version": 3
   },
   "file_extension": ".py",
   "mimetype": "text/x-python",
   "name": "python",
   "nbconvert_exporter": "python",
   "pygments_lexer": "ipython3",
   "version": "3.12.4"
  }
 },
 "nbformat": 4,
 "nbformat_minor": 5
}
